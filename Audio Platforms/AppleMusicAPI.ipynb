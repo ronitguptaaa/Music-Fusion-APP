{
 "cells": [
  {
   "cell_type": "code",
   "execution_count": 8,
   "metadata": {},
   "outputs": [],
   "source": [
    "%run ../Requirements.ipynb"
   ]
  },
  {
   "cell_type": "code",
   "execution_count": 9,
   "metadata": {},
   "outputs": [],
   "source": [
    "response = requests.get(apple_music_itunes_url)\n",
    "top_tracks = response.json()\n",
    "\n",
    "track_list = []\n",
    "for entry in top_tracks['feed']['entry']:\n",
    "    track_info = {\n",
    "        'Track Name': entry['im:name']['label'],\n",
    "        'Artist Name': entry['im:artist']['label'],\n",
    "        'Album Name': entry['im:collection']['im:name']['label'],\n",
    "        'Release Date': entry['im:releaseDate']['attributes']['label'],\n",
    "        'Track URL': entry['link'][0]['attributes']['href']\n",
    "    }\n",
    "    track_list.append(track_info)\n",
    "\n",
    "df = pd.DataFrame(track_list)\n",
    "df = spark.createDataFrame(track_list)"
   ]
  },
  {
   "cell_type": "code",
   "execution_count": 11,
   "metadata": {},
   "outputs": [
    {
     "name": "stderr",
     "output_type": "stream",
     "text": [
      "                                                                                \r"
     ]
    }
   ],
   "source": [
    "df.write.mode('overwrite').format('parquet').save('../Staging/AppleMusic')"
   ]
  }
 ],
 "metadata": {
  "kernelspec": {
   "display_name": ".venv",
   "language": "python",
   "name": "python3"
  },
  "language_info": {
   "codemirror_mode": {
    "name": "ipython",
    "version": 3
   },
   "file_extension": ".py",
   "mimetype": "text/x-python",
   "name": "python",
   "nbconvert_exporter": "python",
   "pygments_lexer": "ipython3",
   "version": "3.9.16"
  }
 },
 "nbformat": 4,
 "nbformat_minor": 2
}
