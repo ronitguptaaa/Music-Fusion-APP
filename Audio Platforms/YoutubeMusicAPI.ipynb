{
 "cells": [
  {
   "cell_type": "code",
   "execution_count": 8,
   "metadata": {},
   "outputs": [],
   "source": [
    "%run Requirements.ipynb"
   ]
  },
  {
   "cell_type": "code",
   "execution_count": 9,
   "metadata": {},
   "outputs": [],
   "source": [
    "ytmusic = YTMusic('client_id.json')\n",
    "\n",
    "playlist_id = youtube_music_secrets.get('playlist_id')\n",
    "playlist = ytmusic.get_playlist(playlist_id)\n",
    "\n",
    "def extract_track_details(track):\n",
    "    album_name = track.get('album', {}).get('name', 'N/A') if track.get('album') else 'N/A'\n",
    "    track_info = {\n",
    "        'Track Title': track['title'],\n",
    "        'Artist Name': ', '.join([artist['name'] for artist in track['artists']]),\n",
    "        'Album Name': album_name,\n",
    "        'Track URL': f\"https://music.youtube.com/watch?v={track['videoId']}\"\n",
    "    }\n",
    "    return track_info\n",
    "\n",
    "track_list = [extract_track_details(track) for track in playlist['tracks']]\n",
    "\n",
    "playlist_df = pd.DataFrame(track_list)"
   ]
  }
 ],
 "metadata": {
  "kernelspec": {
   "display_name": ".venv",
   "language": "python",
   "name": "python3"
  },
  "language_info": {
   "codemirror_mode": {
    "name": "ipython",
    "version": 3
   },
   "file_extension": ".py",
   "mimetype": "text/x-python",
   "name": "python",
   "nbconvert_exporter": "python",
   "pygments_lexer": "ipython3",
   "version": "3.9.16"
  }
 },
 "nbformat": 4,
 "nbformat_minor": 2
}
