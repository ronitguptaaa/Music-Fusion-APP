{
 "cells": [
  {
   "cell_type": "code",
   "execution_count": 3,
   "metadata": {},
   "outputs": [],
   "source": [
    "%run ../Requirements.ipynb"
   ]
  },
  {
   "cell_type": "code",
   "execution_count": 6,
   "metadata": {},
   "outputs": [],
   "source": [
    "ytmusic = YTMusic('../client_id.json')\n",
    "\n",
    "playlist_id = youtube_music_secrets.get('playlist_id')\n",
    "playlist = ytmusic.get_playlist(playlist_id)\n",
    "\n",
    "def extract_track_details(track):\n",
    "    album_name = track.get('album', {}).get('name', 'N/A') if track.get('album') else 'N/A'\n",
    "    track_info = {\n",
    "        'Track Title': track['title'],\n",
    "        'Artist Name': ', '.join([artist['name'] for artist in track['artists']]),\n",
    "        'Album Name': album_name,\n",
    "        'Track URL': f\"https://music.youtube.com/watch?v={track['videoId']}\"\n",
    "    }\n",
    "    return track_info\n",
    "\n",
    "track_list = [extract_track_details(track) for track in playlist['tracks']]\n",
    "\n",
    "playlist_df = pd.DataFrame(track_list)\n",
    "df = spark.createDataFrame(track_list)"
   ]
  },
  {
   "cell_type": "code",
   "execution_count": 7,
   "metadata": {},
   "outputs": [
    {
     "name": "stderr",
     "output_type": "stream",
     "text": [
      "24/06/03 16:13:26 WARN MemoryManager: Total allocation exceeds 95.00% (1,020,054,720 bytes) of heap memory\n",
      "Scaling row group sizes to 95.00% for 8 writers\n",
      "                                                                                \r"
     ]
    }
   ],
   "source": [
    "df.write.mode('overwrite').format('parquet').save('../Staging/YoutubeMusic')"
   ]
  }
 ],
 "metadata": {
  "kernelspec": {
   "display_name": ".venv",
   "language": "python",
   "name": "python3"
  },
  "language_info": {
   "codemirror_mode": {
    "name": "ipython",
    "version": 3
   },
   "file_extension": ".py",
   "mimetype": "text/x-python",
   "name": "python",
   "nbconvert_exporter": "python",
   "pygments_lexer": "ipython3",
   "version": "3.9.16"
  }
 },
 "nbformat": 4,
 "nbformat_minor": 2
}
