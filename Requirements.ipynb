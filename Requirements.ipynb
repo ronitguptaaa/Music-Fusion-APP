{
 "cells": [
  {
   "cell_type": "code",
   "execution_count": 3,
   "metadata": {},
   "outputs": [
    {
     "name": "stderr",
     "output_type": "stream",
     "text": [
      "24/06/03 15:47:46 WARN SparkSession: Using an existing Spark session; only runtime SQL configurations will take effect.\n"
     ]
    }
   ],
   "source": [
    "import requests\n",
    "import pandas as pd\n",
    "import base64\n",
    "from ytmusicapi import YTMusic\n",
    "from pyspark.sql import SparkSession\n",
    "spark = SparkSession.builder.appName('Music-Fusion').config(\"spark.sql.catalogImplementation\", \"hive\").enableHiveSupport().getOrCreate()"
   ]
  },
  {
   "cell_type": "code",
   "execution_count": 4,
   "metadata": {},
   "outputs": [],
   "source": [
    "spotify_secrets = {\n",
    "    \"client_id\": \"962a4ad9be574bd4bbdd696e80d1a04b\",\n",
    "    \"client_secret\": \"c1bf161f2bad4043a62874ab3f7fa32d\"\n",
    "}\n",
    "\n",
    "spotify_auth_url = \"https://accounts.spotify.com/api/token\"\n",
    "spotify_url = \"https://api.spotify.com/v1/playlists/37i9dQZEVXbMDoHDwVN2tF\""
   ]
  },
  {
   "cell_type": "code",
   "execution_count": 5,
   "metadata": {},
   "outputs": [],
   "source": [
    "apple_music_itunes_url = \"https://itunes.apple.com/us/rss/topsongs/limit=51/json\""
   ]
  },
  {
   "cell_type": "code",
   "execution_count": 6,
   "metadata": {},
   "outputs": [],
   "source": [
    "youtube_music_secrets = {\n",
    "    \"playlist_id\": \"PL4fGSI1pDJn6puJdseH2Rt9sMvt9E2M4i\"\n",
    "}"
   ]
  }
 ],
 "metadata": {
  "kernelspec": {
   "display_name": ".venv",
   "language": "python",
   "name": "python3"
  },
  "language_info": {
   "codemirror_mode": {
    "name": "ipython",
    "version": 3
   },
   "file_extension": ".py",
   "mimetype": "text/x-python",
   "name": "python",
   "nbconvert_exporter": "python",
   "pygments_lexer": "ipython3",
   "version": "3.9.16"
  }
 },
 "nbformat": 4,
 "nbformat_minor": 2
}
