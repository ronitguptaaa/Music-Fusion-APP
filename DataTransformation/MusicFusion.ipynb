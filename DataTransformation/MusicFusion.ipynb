{
 "cells": [
  {
   "cell_type": "code",
   "execution_count": 2,
   "metadata": {},
   "outputs": [
    {
     "name": "stderr",
     "output_type": "stream",
     "text": [
      "24/06/20 16:13:56 WARN Utils: Your hostname, Ronits-MacBook-Air.local resolves to a loopback address: 127.0.0.1; using 192.168.1.7 instead (on interface en0)\n",
      "24/06/20 16:13:56 WARN Utils: Set SPARK_LOCAL_IP if you need to bind to another address\n",
      "Setting default log level to \"WARN\".\n",
      "To adjust logging level use sc.setLogLevel(newLevel). For SparkR, use setLogLevel(newLevel).\n",
      "24/06/20 16:13:56 WARN NativeCodeLoader: Unable to load native-hadoop library for your platform... using builtin-java classes where applicable\n"
     ]
    }
   ],
   "source": [
    "%run ../Requirements.ipynb"
   ]
  },
  {
   "cell_type": "code",
   "execution_count": 3,
   "metadata": {},
   "outputs": [],
   "source": [
    "conn = mysql.connector.connect(\n",
    "    host='127.0.0.1',\n",
    "    user='root',\n",
    "    password='ronitgupta28',\n",
    "    database='MusicFusion'\n",
    ")\n",
    "cursor = conn.cursor()"
   ]
  },
  {
   "cell_type": "markdown",
   "metadata": {},
   "source": [
    "Combined Music Artist Details"
   ]
  },
  {
   "cell_type": "code",
   "execution_count": 14,
   "metadata": {},
   "outputs": [],
   "source": [
    "df = spark.sql(\n",
    "    \"\"\"\n",
    "    SELECT DISTINCT SM.Artists\n",
    "    FROM PARQUET.`/Users/ronitguptaaa/Documents/Music-Fusion-APP/Staging/AppleMusic` AS AM\n",
    "    INNER JOIN PARQUET.`/Users/ronitguptaaa/Documents/Music-Fusion-APP/Staging/SpotifyMusic` AS SM \n",
    "    ON LTRIM(RTRIM(LOWER(AM.`Artist Name`))) = LTRIM(RTRIM(LOWER(SM.Artists)))\n",
    "    LEFT JOIN PARQUET.`/Users/ronitguptaaa/Documents/Music-Fusion-APP/Staging/YoutubeMusic` AS YM\n",
    "    ON LTRIM(RTRIM(LOWER(AM.`Artist Name`))) = LTRIM(RTRIM(LOWER(YM.`Artist Name`)))\n",
    "    \"\"\"\n",
    ")"
   ]
  },
  {
   "cell_type": "code",
   "execution_count": 15,
   "metadata": {},
   "outputs": [
    {
     "name": "stderr",
     "output_type": "stream",
     "text": [
      "24/06/20 15:55:13 WARN MemoryManager: Total allocation exceeds 95.00% (1,020,054,720 bytes) of heap memory\n",
      "Scaling row group sizes to 95.00% for 8 writers\n"
     ]
    }
   ],
   "source": [
    "artists_df = df.select(F.col('Artists')).distinct()\n",
    "artists_list = [row['Artists'] for row in artists_df.collect()]\n",
    "\n",
    "news_api_key = News_API\n",
    "\n",
    "news_data = []\n",
    "for artist in artists_list:\n",
    "    url = f\"https://newsapi.org/v2/everything?q={artist}&pageSize=10&apiKey={news_api_key}\"\n",
    "    response = requests.get(url)\n",
    "    if response.status_code == 200:\n",
    "        articles = response.json()['articles']\n",
    "        for article in articles:\n",
    "            news_data.append({\n",
    "                'Artist': artist,\n",
    "                'Title': article.get('title'),\n",
    "                'Description': article.get('description'),\n",
    "                'URL': article.get('url'),\n",
    "                'Content': article.get('content')\n",
    "            })\n",
    "    else:\n",
    "        print(f\"Failed to fetch news for artist: {artist}, Status Code: {response.status_code}\")\n",
    "\n",
    "news_df = pd.DataFrame(news_data)\n",
    "news_spark_df = spark.createDataFrame(news_df)\n",
    "\n",
    "news_spark_df.write.mode('overwrite').format('parquet').save('../Mart/MusicFusion-Details')"
   ]
  },
  {
   "cell_type": "code",
   "execution_count": 22,
   "metadata": {},
   "outputs": [],
   "source": [
    "df = pd.read_parquet('/Users/ronitguptaaa/Documents/Music-Fusion-APP/Mart/MusicFusion-Details')\n",
    "df = df.dropna()"
   ]
  },
  {
   "cell_type": "code",
   "execution_count": 24,
   "metadata": {},
   "outputs": [],
   "source": [
    "columns = \", \".join([f\"`{col}` VARCHAR(1024)\" for col in df.columns])\n",
    "drop_table_query = f\"DROP TABLE IF EXISTS MusicFusionDetails;\"\n",
    "cursor.execute(drop_table_query)\n",
    "create_table_query = f\"CREATE TABLE IF NOT EXISTS MusicFusionDetails ({columns});\"\n",
    "cursor.execute(create_table_query)\n",
    "\n",
    "for index, row in df.iterrows():\n",
    "    values = tuple(row.values)\n",
    "    insert_query = f\"INSERT INTO MusicFusionDetails VALUES {values};\"\n",
    "    cursor.execute(insert_query)\n",
    "    \n",
    "alter_table_query = f\"DELETE FROM MusicFusionDetails WHERE Title = '[Removed]'\"\n",
    "cursor.execute(alter_table_query)\n",
    "\n",
    "conn.commit()\n"
   ]
  },
  {
   "cell_type": "markdown",
   "metadata": {},
   "source": [
    "Apple Music Artist Details"
   ]
  },
  {
   "cell_type": "code",
   "execution_count": 25,
   "metadata": {},
   "outputs": [],
   "source": [
    "df = spark.sql(\"SELECT DISTINCT * FROM PARQUET.`/Users/ronitguptaaa/Documents/Music-Fusion-APP/Staging/AppleMusic`\")"
   ]
  },
  {
   "cell_type": "code",
   "execution_count": 26,
   "metadata": {},
   "outputs": [
    {
     "name": "stderr",
     "output_type": "stream",
     "text": [
      "24/06/20 16:06:37 WARN MemoryManager: Total allocation exceeds 95.00% (1,020,054,720 bytes) of heap memory\n",
      "Scaling row group sizes to 95.00% for 8 writers\n"
     ]
    }
   ],
   "source": [
    "artists_df = df.select(F.col('Artist Name')).distinct()\n",
    "artists_list = [row['Artist Name'] for row in artists_df.collect()]\n",
    "\n",
    "news_api_key = News_API\n",
    "\n",
    "news_data = []\n",
    "for artist in artists_list:\n",
    "    url = f\"https://newsapi.org/v2/everything?q={artist}&pageSize=10&apiKey={news_api_key}\"\n",
    "    response = requests.get(url)\n",
    "    if response.status_code == 200:\n",
    "        articles = response.json()['articles']\n",
    "        for article in articles:\n",
    "            news_data.append({\n",
    "                'Artist': artist,\n",
    "                'Title': article.get('title'),\n",
    "                'Description': article.get('description'),\n",
    "                'URL': article.get('url'),\n",
    "                'Content': article.get('content')\n",
    "            })\n",
    "    else:\n",
    "        print(f\"Failed to fetch news for artist: {artist}, Status Code: {response.status_code}\")\n",
    "\n",
    "news_df = pd.DataFrame(news_data)\n",
    "news_spark_df = spark.createDataFrame(news_df)\n",
    "\n",
    "news_spark_df.write.mode('overwrite').format('parquet').save('../Mart/AppleMusic-Details')"
   ]
  },
  {
   "cell_type": "code",
   "execution_count": 28,
   "metadata": {},
   "outputs": [],
   "source": [
    "df = pd.read_parquet('/Users/ronitguptaaa/Documents/Music-Fusion-APP/Mart/AppleMusic-Details')\n",
    "df = df.dropna()"
   ]
  },
  {
   "cell_type": "code",
   "execution_count": 29,
   "metadata": {},
   "outputs": [],
   "source": [
    "columns = \", \".join([f\"`{col}` VARCHAR(1024)\" for col in df.columns])\n",
    "drop_table_query = f\"DROP TABLE IF EXISTS AppleMusicDetails;\"\n",
    "cursor.execute(drop_table_query)\n",
    "create_table_query = f\"CREATE TABLE IF NOT EXISTS AppleMusicDetails ({columns});\"\n",
    "cursor.execute(create_table_query)\n",
    "\n",
    "for index, row in df.iterrows():\n",
    "    values = tuple(row.values)\n",
    "    insert_query = f\"REPLACE INTO AppleMusicDetails VALUES {values};\"\n",
    "    cursor.execute(insert_query)\n",
    "\n",
    "alter_table_query = f\"DELETE FROM AppleMusicDetails WHERE Title = '[Removed]'\"\n",
    "cursor.execute(alter_table_query)\n",
    "conn.commit()"
   ]
  },
  {
   "cell_type": "markdown",
   "metadata": {},
   "source": [
    "Spotify Artist Details"
   ]
  },
  {
   "cell_type": "code",
   "execution_count": 30,
   "metadata": {},
   "outputs": [],
   "source": [
    "df = spark.sql(\"SELECT DISTINCT * FROM PARQUET.`/Users/ronitguptaaa/Documents/Music-Fusion-APP/Staging/SpotifyMusic`\")"
   ]
  },
  {
   "cell_type": "code",
   "execution_count": 32,
   "metadata": {},
   "outputs": [
    {
     "name": "stderr",
     "output_type": "stream",
     "text": [
      "24/06/20 16:08:28 WARN MemoryManager: Total allocation exceeds 95.00% (1,020,054,720 bytes) of heap memory\n",
      "Scaling row group sizes to 95.00% for 8 writers\n"
     ]
    }
   ],
   "source": [
    "artists_df = df.select(F.col('Artists')).distinct()\n",
    "artists_list = [row['Artists'] for row in artists_df.collect()]\n",
    "\n",
    "news_api_key = News_API\n",
    "\n",
    "news_data = []\n",
    "for artist in artists_list:\n",
    "    url = f\"https://newsapi.org/v2/everything?q={artist}&pageSize=10&apiKey={news_api_key}\"\n",
    "    response = requests.get(url)\n",
    "    if response.status_code == 200:\n",
    "        articles = response.json()['articles']\n",
    "        for article in articles:\n",
    "            news_data.append({\n",
    "                'Artist': artist,\n",
    "                'Title': article.get('title'),\n",
    "                'Description': article.get('description'),\n",
    "                'URL': article.get('url'),\n",
    "                'Content': article.get('content')\n",
    "            })\n",
    "    else:\n",
    "        print(f\"Failed to fetch news for artist: {artist}, Status Code: {response.status_code}\")\n",
    "\n",
    "news_df = pd.DataFrame(news_data)\n",
    "news_spark_df = spark.createDataFrame(news_df)\n",
    "\n",
    "news_spark_df.write.mode('overwrite').format('parquet').save('../Mart/Spotify-Details')"
   ]
  },
  {
   "cell_type": "code",
   "execution_count": 34,
   "metadata": {},
   "outputs": [],
   "source": [
    "df = pd.read_parquet('/Users/ronitguptaaa/Documents/Music-Fusion-APP/Mart/Spotify-Details')\n",
    "df = df.dropna()"
   ]
  },
  {
   "cell_type": "code",
   "execution_count": 35,
   "metadata": {},
   "outputs": [],
   "source": [
    "columns = \", \".join([f\"`{col}` VARCHAR(1024)\" for col in df.columns])\n",
    "drop_table_query = f\"DROP TABLE IF EXISTS SpotifyDetails;\"\n",
    "cursor.execute(drop_table_query)\n",
    "create_table_query = f\"CREATE TABLE IF NOT EXISTS SpotifyDetails ({columns});\"\n",
    "cursor.execute(create_table_query)\n",
    "\n",
    "for index, row in df.iterrows():\n",
    "    values = tuple(row.values)\n",
    "    insert_query = f\"REPLACE INTO SpotifyDetails VALUES {values};\"\n",
    "    cursor.execute(insert_query)\n",
    "\n",
    "alter_table_query = f\"DELETE FROM SpotifyDetails WHERE Title = '[Removed]'\"\n",
    "cursor.execute(alter_table_query)\n",
    "\n",
    "conn.commit()"
   ]
  },
  {
   "cell_type": "markdown",
   "metadata": {},
   "source": [
    "Complete Artist Lists Details - Popularity/Followers"
   ]
  },
  {
   "cell_type": "code",
   "execution_count": 4,
   "metadata": {},
   "outputs": [
    {
     "name": "stderr",
     "output_type": "stream",
     "text": [
      "                                                                                \r"
     ]
    }
   ],
   "source": [
    "df = spark.sql(\"\"\"\n",
    "        SELECT DISTINCT Artist FROM \n",
    "        PARQUET.`/Users/ronitguptaaa/Documents/Music-Fusion-APP/Mart/MusicFusion-Details` \n",
    "        ORDER BY Artist\n",
    "    \"\"\")"
   ]
  },
  {
   "cell_type": "code",
   "execution_count": 8,
   "metadata": {},
   "outputs": [],
   "source": [
    "auth_header = base64.b64encode((spotify_secrets.get(\"client_id\")+':'+spotify_secrets.get(\"client_secret\")).encode()).decode()\n",
    "headers = {\n",
    "    \"Content-Type\": \"application/x-www-form-urlencoded\",\n",
    "    \"Authorization\": f\"Basic {auth_header}\"\n",
    "}\n",
    "data = {\n",
    "    \"grant_type\": \"client_credentials\"\n",
    "}\n",
    "\n",
    "response = requests.post(spotify_auth_url, headers=headers, data=data)\n",
    "response_data = response.json()['access_token']\n",
    "\n",
    "headers = {\n",
    "    \"Authorization\": f\"Bearer {response_data}\"\n",
    "}\n",
    "\n",
    "response = requests.get(spotify_url, headers=headers)\n",
    "spotify_response_data=response.json()"
   ]
  },
  {
   "cell_type": "code",
   "execution_count": 9,
   "metadata": {},
   "outputs": [
    {
     "name": "stderr",
     "output_type": "stream",
     "text": [
      "24/06/20 16:17:01 WARN MemoryManager: Total allocation exceeds 95.00% (1,020,054,720 bytes) of heap memory\n",
      "Scaling row group sizes to 95.00% for 8 writers\n",
      "                                                                                \r"
     ]
    }
   ],
   "source": [
    "artist_names = [row['Artist'] for row in df.collect()]\n",
    "\n",
    "artist_details = []\n",
    "\n",
    "for artist_name in artist_names:\n",
    "    spotify_api_url = f'https://api.spotify.com/v1/search?q={artist_name}&type=artist'\n",
    "    headers = {\n",
    "        'Authorization': f'Bearer {response_data}'\n",
    "    }\n",
    "\n",
    "    try:\n",
    "        response = requests.get(spotify_api_url, headers=headers)\n",
    "        if response.status_code == 200:\n",
    "            data = response.json()\n",
    "            artists = data.get('artists', {}).get('items', [])\n",
    "\n",
    "            for artist_data in artists:\n",
    "                if artist_data.get('name').lower() == artist_name.lower():\n",
    "                    artist_details.append({\n",
    "                        'name': artist_data.get('name'),\n",
    "                        'id': artist_data.get('id'),\n",
    "                        'image_url': artist_data.get('images')[0].get('url') if artist_data.get('images') else None,\n",
    "                        'followers': artist_data.get('followers', {}).get('total'),\n",
    "                        'popularity': artist_data.get('popularity')\n",
    "                    })\n",
    "                    break\n",
    "\n",
    "    except requests.exceptions.RequestException as e:\n",
    "        print(f\"Request failed for artist '{artist_name}': {e}\")\n",
    "\n",
    "artist_df = spark.createDataFrame(artist_details)\n",
    "\n",
    "artist_df.write.mode('overwrite').format('parquet').save('../Mart/ArtistDetails')"
   ]
  },
  {
   "cell_type": "code",
   "execution_count": null,
   "metadata": {},
   "outputs": [],
   "source": [
    "df = pd.read_parquet('/Users/ronitguptaaa/Documents/Music-Fusion-APP/Mart/ArtistDetails')"
   ]
  },
  {
   "cell_type": "code",
   "execution_count": 12,
   "metadata": {},
   "outputs": [],
   "source": [
    "columns = \", \".join([f\"`{col}` VARCHAR(1024)\" for col in df.columns])\n",
    "drop_table_query = f\"DROP TABLE IF EXISTS ArtistDetails;\"\n",
    "cursor.execute(drop_table_query)\n",
    "create_table_query = f\"CREATE TABLE IF NOT EXISTS ArtistDetails ({columns});\"\n",
    "cursor.execute(create_table_query)\n",
    "\n",
    "for index, row in df.iterrows():\n",
    "    values = tuple(row.values)\n",
    "    insert_query = f\"REPLACE INTO ArtistDetails VALUES {values};\"\n",
    "    cursor.execute(insert_query)\n",
    "conn.commit()"
   ]
  },
  {
   "cell_type": "markdown",
   "metadata": {},
   "source": [
    "Integrate it with Apple Music and Youtube Music"
   ]
  },
  {
   "cell_type": "code",
   "execution_count": 14,
   "metadata": {},
   "outputs": [
    {
     "name": "stderr",
     "output_type": "stream",
     "text": [
      "24/06/20 16:21:22 WARN MemoryManager: Total allocation exceeds 95.00% (1,020,054,720 bytes) of heap memory\n",
      "Scaling row group sizes to 95.00% for 8 writers\n"
     ]
    }
   ],
   "source": [
    "df = spark.sql(\n",
    "    \"\"\"WITH AppleCTE AS (\n",
    "        SELECT DISTINCT `Artist ID` AS AppleArtistID, `Artist Name` AS AppleArtist FROM \n",
    "        PARQUET.`/Users/ronitguptaaa/Documents/Music-Fusion-APP/Staging/AppleMusic`\n",
    "    ),\n",
    "    ArtistDetailsCTE AS (\n",
    "        SELECT CAST(followers AS INT),\n",
    "    id AS SpotifyArtistID,\n",
    "    name AS SpotifyArtist,\n",
    "    CAST(popularity AS INT) AS Popularity,\n",
    "    image_url FROM PARQUET.`/Users/ronitguptaaa/Documents/Music-Fusion-APP/Mart/ArtistDetails`\n",
    "    ),\n",
    "    YoutubeMusicCTE AS (\n",
    "        SELECT DISTINCT \n",
    "        `Artist Name` AS YoutubeArtist,\n",
    "        `Artist IDs` AS YoutubeArtistID \n",
    "        FROM PARQUET.`/Users/ronitguptaaa/Documents/Music-Fusion-APP/Staging/YoutubeMusic`\n",
    "    )\n",
    "    SELECT *\n",
    "    FROM ArtistDetailsCTE AS AD \n",
    "    INNER JOIN AppleCTE AS ACTE \n",
    "    ON LTRIM(RTRIM(LOWER(AD.SpotifyArtist))) = LTRIM(RTRIM(LOWER(ACTE.AppleArtist)))\n",
    "    LEFT JOIN YoutubeMusicCTE AS YM \n",
    "    ON LTRIM(RTRIM(LOWER(AD.SpotifyArtist))) = LTRIM(RTRIM(LOWER(YM.YoutubeArtist)))\n",
    "    \"\"\"\n",
    ")\n",
    "\n",
    "df.write.mode('overwrite').format('parquet').save('../Mart/ArtistDetailsFinal')"
   ]
  },
  {
   "cell_type": "code",
   "execution_count": null,
   "metadata": {},
   "outputs": [],
   "source": [
    "data = pd.read_parquet('/Users/ronitguptaaa/Documents/Music-Fusion-APP/Mart/ArtistDetailsFinal')"
   ]
  },
  {
   "cell_type": "code",
   "execution_count": 16,
   "metadata": {},
   "outputs": [],
   "source": [
    "drop_table_query = \"DROP TABLE IF EXISTS ArtistDetailsFinal;\"\n",
    "cursor.execute(drop_table_query)\n",
    "\n",
    "columns = \", \".join([f\"`{col}` INT\" if col == 'popularity' else f\"`{col}` VARCHAR(1024)\" for col in data.columns])\n",
    "create_table_query = f\"CREATE TABLE IF NOT EXISTS ArtistDetailsFinal ({columns});\"\n",
    "cursor.execute(create_table_query)\n",
    "\n",
    "insert_query = f\"INSERT INTO ArtistDetailsFinal ({', '.join([f'`{col}`' for col in data.columns])}) VALUES ({', '.join(['%s' for _ in data.columns])})\"\n",
    "\n",
    "for index, row in data.iterrows():\n",
    "    values = tuple(None if pd.isnull(value) else value for value in row.values)\n",
    "    cursor.execute(insert_query, values)\n",
    "    \n",
    "conn.commit()"
   ]
  }
 ],
 "metadata": {
  "kernelspec": {
   "display_name": ".venv",
   "language": "python",
   "name": "python3"
  },
  "language_info": {
   "codemirror_mode": {
    "name": "ipython",
    "version": 3
   },
   "file_extension": ".py",
   "mimetype": "text/x-python",
   "name": "python",
   "nbconvert_exporter": "python",
   "pygments_lexer": "ipython3",
   "version": "3.9.16"
  }
 },
 "nbformat": 4,
 "nbformat_minor": 2
}
