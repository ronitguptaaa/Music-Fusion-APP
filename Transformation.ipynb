{
 "cells": [
  {
   "cell_type": "code",
   "execution_count": 75,
   "metadata": {},
   "outputs": [
    {
     "name": "stderr",
     "output_type": "stream",
     "text": [
      "24/06/04 14:50:13 WARN SparkSession: Using an existing Spark session; only runtime SQL configurations will take effect.\n"
     ]
    }
   ],
   "source": [
    "%run Requirements.ipynb"
   ]
  },
  {
   "cell_type": "code",
   "execution_count": 76,
   "metadata": {},
   "outputs": [
    {
     "name": "stderr",
     "output_type": "stream",
     "text": [
      "24/06/04 14:50:13 WARN ObjectStore: Failed to get database parquet, returning NoSuchObjectException\n",
      "24/06/04 14:50:13 WARN ObjectStore: Failed to get database parquet, returning NoSuchObjectException\n",
      "24/06/04 14:50:13 WARN ObjectStore: Failed to get database parquet, returning NoSuchObjectException\n"
     ]
    }
   ],
   "source": [
    "df = spark.sql(\n",
    "    \"\"\"\n",
    "    SELECT DISTINCT SM.Artists\n",
    "    FROM PARQUET.`/Users/ronitguptaaa/Documents/Music-Fusion-APP/Staging/AppleMusic` AS AM\n",
    "    INNER JOIN PARQUET.`/Users/ronitguptaaa/Documents/Music-Fusion-APP/Staging/SpotifyMusic` AS SM \n",
    "    ON LTRIM(RTRIM(LOWER(AM.`Artist Name`))) = LTRIM(RTRIM(LOWER(SM.Artists)))\n",
    "    LEFT JOIN PARQUET.`/Users/ronitguptaaa/Documents/Music-Fusion-APP/Staging/YoutubeMusic` AS YM\n",
    "    ON LTRIM(RTRIM(LOWER(AM.`Artist Name`))) = LTRIM(RTRIM(LOWER(YM.`Artist Name`)))\n",
    "    \"\"\"\n",
    ")"
   ]
  },
  {
   "cell_type": "code",
   "execution_count": 77,
   "metadata": {},
   "outputs": [
    {
     "name": "stderr",
     "output_type": "stream",
     "text": [
      "24/06/04 14:50:22 WARN MemoryManager: Total allocation exceeds 95.00% (1,020,054,720 bytes) of heap memory\n",
      "Scaling row group sizes to 95.00% for 8 writers\n",
      "                                                                                \r"
     ]
    }
   ],
   "source": [
    "artists_df = df.select(F.col('Artists')).distinct()\n",
    "artists_list = [row['Artists'] for row in artists_df.collect()]\n",
    "\n",
    "news_api_key = News_API.get('API_KEY')\n",
    "\n",
    "news_data = []\n",
    "for artist in artists_list:\n",
    "    url = f\"https://newsapi.org/v2/everything?q={artist}&pageSize=10&apiKey={news_api_key}\"\n",
    "    response = requests.get(url)\n",
    "    if response.status_code == 200:\n",
    "        articles = response.json()['articles']\n",
    "        for article in articles:\n",
    "            news_data.append({\n",
    "                'Artist': artist,\n",
    "                'Title': article.get('title'),\n",
    "                'Description': article.get('description'),\n",
    "                'URL': article.get('url'),\n",
    "                'Content': article.get('content')\n",
    "            })\n",
    "    else:\n",
    "        print(f\"Failed to fetch news for artist: {artist}, Status Code: {response.status_code}\")\n",
    "\n",
    "news_df = pd.DataFrame(news_data)\n",
    "news_spark_df = spark.createDataFrame(news_df)\n",
    "\n",
    "news_spark_df.write.mode('overwrite').format('parquet').save('Mart/MusicFusion-Details')\n",
    "news_spark_df.write.mode('overwrite').format('parquet').saveAsTable('MusicFusionDetails')"
   ]
  }
 ],
 "metadata": {
  "kernelspec": {
   "display_name": ".venv",
   "language": "python",
   "name": "python3"
  },
  "language_info": {
   "codemirror_mode": {
    "name": "ipython",
    "version": 3
   },
   "file_extension": ".py",
   "mimetype": "text/x-python",
   "name": "python",
   "nbconvert_exporter": "python",
   "pygments_lexer": "ipython3",
   "version": "3.9.16"
  }
 },
 "nbformat": 4,
 "nbformat_minor": 2
}
