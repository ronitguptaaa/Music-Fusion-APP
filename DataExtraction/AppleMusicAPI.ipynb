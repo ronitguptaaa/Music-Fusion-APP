{
 "cells": [
  {
   "cell_type": "code",
   "execution_count": 1,
   "metadata": {},
   "outputs": [
    {
     "name": "stderr",
     "output_type": "stream",
     "text": [
      "24/06/20 15:46:57 WARN Utils: Your hostname, Ronits-MacBook-Air.local resolves to a loopback address: 127.0.0.1; using 192.168.1.7 instead (on interface en0)\n",
      "24/06/20 15:46:57 WARN Utils: Set SPARK_LOCAL_IP if you need to bind to another address\n",
      "Setting default log level to \"WARN\".\n",
      "To adjust logging level use sc.setLogLevel(newLevel). For SparkR, use setLogLevel(newLevel).\n",
      "24/06/20 15:46:58 WARN NativeCodeLoader: Unable to load native-hadoop library for your platform... using builtin-java classes where applicable\n"
     ]
    }
   ],
   "source": [
    "%run ../Requirements.ipynb"
   ]
  },
  {
   "cell_type": "code",
   "execution_count": 2,
   "metadata": {},
   "outputs": [],
   "source": [
    "response = requests.get(apple_music_itunes_url)\n",
    "top_tracks = response.json()\n",
    "\n",
    "track_list = []\n",
    "\n",
    "def extract_artist_id(url):\n",
    "    match = re.search(r'/artist/.+/(\\d+)\\?', url)\n",
    "    return match.group(1) if match else None\n",
    "\n",
    "for entry in top_tracks['feed']['entry']:\n",
    "    artist_url = entry['im:artist']['attributes']['href']\n",
    "    artist_id = extract_artist_id(artist_url)\n",
    "    \n",
    "    track_info = {\n",
    "        'Track Name': entry['im:name']['label'],\n",
    "        'Artist Name': entry['im:artist']['label'],\n",
    "        'Album Name': entry['im:collection']['im:name']['label'],\n",
    "        'Release Date': entry['im:releaseDate']['attributes']['label'],\n",
    "        'Track URL': entry['link'][0]['attributes']['href'],\n",
    "        'Artist ID': artist_id\n",
    "    }\n",
    "    track_list.append(track_info)\n",
    "\n",
    "df = pd.DataFrame(track_list)\n",
    "spark_df = spark.createDataFrame(df)"
   ]
  },
  {
   "cell_type": "code",
   "execution_count": 3,
   "metadata": {},
   "outputs": [
    {
     "name": "stderr",
     "output_type": "stream",
     "text": [
      "24/06/20 15:47:09 WARN MemoryManager: Total allocation exceeds 95.00% (1,020,054,720 bytes) of heap memory\n",
      "Scaling row group sizes to 95.00% for 8 writers\n",
      "                                                                                \r"
     ]
    }
   ],
   "source": [
    "spark_df.write.mode('overwrite').format('parquet').save('../Staging/AppleMusic')"
   ]
  }
 ],
 "metadata": {
  "kernelspec": {
   "display_name": ".venv",
   "language": "python",
   "name": "python3"
  },
  "language_info": {
   "codemirror_mode": {
    "name": "ipython",
    "version": 3
   },
   "file_extension": ".py",
   "mimetype": "text/x-python",
   "name": "python",
   "nbconvert_exporter": "python",
   "pygments_lexer": "ipython3",
   "version": "3.9.16"
  }
 },
 "nbformat": 4,
 "nbformat_minor": 2
}
