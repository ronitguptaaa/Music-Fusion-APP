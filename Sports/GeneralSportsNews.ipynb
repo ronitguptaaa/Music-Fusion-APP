{
 "cells": [
  {
   "cell_type": "code",
   "execution_count": 10,
   "metadata": {},
   "outputs": [],
   "source": [
    "%run ../Requirements.ipynb"
   ]
  },
  {
   "cell_type": "code",
   "execution_count": 11,
   "metadata": {},
   "outputs": [],
   "source": [
    "conn = mysql.connector.connect(\n",
    "    host='127.0.0.1',\n",
    "    user='root',\n",
    "    password='ronitgupta28',\n",
    "    database='MusicFusion'\n",
    ")\n",
    "cursor = conn.cursor()"
   ]
  },
  {
   "cell_type": "markdown",
   "metadata": {},
   "source": [
    "### Football"
   ]
  },
  {
   "cell_type": "code",
   "execution_count": 12,
   "metadata": {},
   "outputs": [],
   "source": [
    "url = 'https://newsdata.io/api/1/news?apikey=pub_46893b2e912e5641cb98a854ddf2e7b4a0a7d&q=football&language=en&category=sports'\n",
    "\n",
    "response = requests.get(url)\n",
    "data = response.json()"
   ]
  },
  {
   "cell_type": "code",
   "execution_count": 13,
   "metadata": {},
   "outputs": [],
   "source": [
    "if response.status_code == 200 and data['status'] == 'success':\n",
    "    articles = data['results']\n",
    "    df = pd.DataFrame(articles)\n",
    "else:\n",
    "    print(f\"Error: {response.status_code}, {data['message']}\")\n",
    "    \n",
    "df = df.drop(['keywords', 'creator', 'video_url', 'content', 'country', 'category', 'ai_tag', 'sentiment', 'sentiment_stats', 'ai_region', 'ai_org'], axis=1)\n",
    "df = df.dropna()"
   ]
  },
  {
   "cell_type": "code",
   "execution_count": 14,
   "metadata": {},
   "outputs": [],
   "source": [
    "df.to_parquet('/Users/ronitguptaaa/Documents/Music-Fusion-APP/Mart/SportsNews/Football')"
   ]
  },
  {
   "cell_type": "code",
   "execution_count": 22,
   "metadata": {},
   "outputs": [],
   "source": [
    "columns = \", \".join([f\"`{col}` VARCHAR(1024)\" for col in df.columns])\n",
    "\n",
    "drop_table_query = \"DROP TABLE IF EXISTS FootballNews;\"\n",
    "cursor.execute(drop_table_query)\n",
    "\n",
    "create_table_query = f\"CREATE TABLE IF NOT EXISTS FootballNews ({columns});\"\n",
    "cursor.execute(create_table_query)\n",
    "\n",
    "insert_query = f\"INSERT INTO FootballNews ({', '.join(df.columns)}) VALUES ({', '.join(['%s'] * len(df.columns))})\"\n",
    "delete_query = f\"DELETE FROM FootballNews WHERE link is NULL;\"\n",
    "for index, row in df.iterrows():\n",
    "    values = tuple([None if pd.isna(val) else val for val in row])\n",
    "    cursor.execute(insert_query, values)\n",
    "\n",
    "cursor.execute(delete_query)\n",
    "conn.commit()"
   ]
  },
  {
   "cell_type": "markdown",
   "metadata": {},
   "source": [
    "### Cricket"
   ]
  },
  {
   "cell_type": "code",
   "execution_count": 33,
   "metadata": {},
   "outputs": [],
   "source": [
    "url = \"https://newsdata.io/api/1/news?apikey=pub_46893b2e912e5641cb98a854ddf2e7b4a0a7d&q=cricket&language=en&category=sports\"\n",
    "\n",
    "response = requests.get(url)\n",
    "data = response.json()"
   ]
  },
  {
   "cell_type": "code",
   "execution_count": 44,
   "metadata": {},
   "outputs": [],
   "source": [
    "if response.status_code == 200 and data['status'] == 'success':\n",
    "    articles = data['results']\n",
    "    df = pd.DataFrame(articles)\n",
    "else:\n",
    "    print(f\"{response.status_code}, {data['results']['message']}\")\n",
    "    \n",
    "df = df.drop(['keywords', 'creator', 'video_url', 'content', 'country', 'category', 'ai_tag', 'sentiment', 'sentiment_stats', 'ai_region', 'ai_org'], axis=1)\n",
    "df = df.dropna()"
   ]
  },
  {
   "cell_type": "code",
   "execution_count": 46,
   "metadata": {},
   "outputs": [],
   "source": [
    "df.to_parquet('/Users/ronitguptaaa/Documents/Music-Fusion-APP/Mart/SportsNews/Cricket')"
   ]
  },
  {
   "cell_type": "code",
   "execution_count": 51,
   "metadata": {},
   "outputs": [],
   "source": [
    "columns = \", \".join([f\"`{col}` VARCHAR(1024)\" if col != 'description' else f\"`{col}` TEXT\" for col in df.columns])\n",
    "\n",
    "drop_table_query = \"DROP TABLE IF EXISTS CricketNews\"\n",
    "cursor.execute(drop_table_query)\n",
    "\n",
    "create_table_query = f\"CREATE TABLE IF NOT EXISTS CricketNews ({columns});\"\n",
    "cursor.execute(create_table_query)\n",
    "\n",
    "insert_query = f\"INSERT INTO CricketNews ({', '.join(df.columns)}) VALUES ({' ,'.join(['%s'] * len(df.columns))})\"\n",
    "\n",
    "for index, row in df.iterrows():\n",
    "    values = tuple([None if pd.isna(val) else val for val in row])\n",
    "    cursor.execute(insert_query, values)\n",
    "    \n",
    "conn.commit()"
   ]
  },
  {
   "cell_type": "markdown",
   "metadata": {},
   "source": [
    "### Formula one"
   ]
  },
  {
   "cell_type": "code",
   "execution_count": null,
   "metadata": {},
   "outputs": [],
   "source": []
  }
 ],
 "metadata": {
  "kernelspec": {
   "display_name": ".venv",
   "language": "python",
   "name": "python3"
  },
  "language_info": {
   "codemirror_mode": {
    "name": "ipython",
    "version": 3
   },
   "file_extension": ".py",
   "mimetype": "text/x-python",
   "name": "python",
   "nbconvert_exporter": "python",
   "pygments_lexer": "ipython3",
   "version": "3.9.16"
  }
 },
 "nbformat": 4,
 "nbformat_minor": 2
}
