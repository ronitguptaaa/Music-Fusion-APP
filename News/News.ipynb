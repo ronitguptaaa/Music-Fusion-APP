{
 "cells": [
  {
   "cell_type": "code",
   "execution_count": 1,
   "metadata": {},
   "outputs": [
    {
     "name": "stderr",
     "output_type": "stream",
     "text": [
      "24/06/20 18:35:04 WARN Utils: Your hostname, Ronits-MacBook-Air.local resolves to a loopback address: 127.0.0.1; using 192.168.1.7 instead (on interface en0)\n",
      "24/06/20 18:35:04 WARN Utils: Set SPARK_LOCAL_IP if you need to bind to another address\n",
      "Setting default log level to \"WARN\".\n",
      "To adjust logging level use sc.setLogLevel(newLevel). For SparkR, use setLogLevel(newLevel).\n",
      "24/06/20 18:35:04 WARN NativeCodeLoader: Unable to load native-hadoop library for your platform... using builtin-java classes where applicable\n"
     ]
    }
   ],
   "source": [
    "%run ../Requirements.ipynb"
   ]
  },
  {
   "cell_type": "code",
   "execution_count": 2,
   "metadata": {},
   "outputs": [],
   "source": [
    "conn = mysql.connector.connect(\n",
    "    host='127.0.0.1',\n",
    "    user='root',\n",
    "    password='ronitgupta28',\n",
    "    database='MusicFusion'\n",
    ")\n",
    "cursor = conn.cursor()"
   ]
  },
  {
   "cell_type": "markdown",
   "metadata": {},
   "source": [
    "Music Industry News"
   ]
  },
  {
   "cell_type": "code",
   "execution_count": 3,
   "metadata": {},
   "outputs": [],
   "source": [
    "api_key = News_API\n",
    "\n",
    "url = f'https://newsapi.org/v2/everything?q=Music Industry&apiKey={api_key}'\n",
    "\n",
    "response = requests.get(url)\n",
    "data = response.json()"
   ]
  },
  {
   "cell_type": "code",
   "execution_count": 4,
   "metadata": {},
   "outputs": [],
   "source": [
    "if response.status_code == 200 and data['status'] == 'ok':\n",
    "    articles = data['articles']\n",
    "    df = pd.DataFrame(articles)\n",
    "else:\n",
    "    print(f\"Error: {response.status_code}, {data['message']}\")\n",
    "    \n",
    "df = df.drop(['source', 'content'], axis=1)\n",
    "df = df.dropna(subset=['urlToImage'])\n",
    "\n",
    "df.to_parquet('/Users/ronitguptaaa/Documents/Music-Fusion-APP/Mart/GeneralMusicNews')"
   ]
  },
  {
   "cell_type": "code",
   "execution_count": 5,
   "metadata": {},
   "outputs": [],
   "source": [
    "columns = \", \".join([f\"`{col}` VARCHAR(1024)\" for col in df.columns])\n",
    "\n",
    "drop_table_query = \"DROP TABLE IF EXISTS GeneralMusicNews;\"\n",
    "cursor.execute(drop_table_query)\n",
    "\n",
    "create_table_query = f\"CREATE TABLE IF NOT EXISTS GeneralMusicNews ({columns});\"\n",
    "cursor.execute(create_table_query)\n",
    "\n",
    "insert_query = f\"INSERT INTO GeneralMusicNews ({', '.join(df.columns)}) VALUES ({', '.join(['%s'] * len(df.columns))})\"\n",
    "\n",
    "delete_query = f\"DELETE FROM GeneralMusicNews WHERE author is NULL;\"\n",
    "\n",
    "\n",
    "for index, row in df.iterrows():\n",
    "    values = tuple([None if pd.isna(val) else val for val in row])\n",
    "    cursor.execute(insert_query, values)\n",
    "    \n",
    "cursor.execute(delete_query)\n",
    "conn.commit()"
   ]
  },
  {
   "cell_type": "markdown",
   "metadata": {},
   "source": [
    "Music Concerts News"
   ]
  },
  {
   "cell_type": "code",
   "execution_count": 6,
   "metadata": {},
   "outputs": [],
   "source": [
    "api_key = News_API\n",
    "url = f'https://newsapi.org/v2/everything?apiKey={api_key}&q=Latest Music Concerts'\n",
    "response = requests.get(url)\n",
    "data = response.json()"
   ]
  },
  {
   "cell_type": "code",
   "execution_count": 7,
   "metadata": {},
   "outputs": [],
   "source": [
    "if response.status_code == 200 and data['status'] == 'ok':\n",
    "    articles = data['articles']\n",
    "    df = pd.DataFrame(articles)\n",
    "else:\n",
    "    print(f\"Error: {response.status_code}, {data['message']}\")\n",
    "    \n",
    "df = df.drop(['source', 'content'], axis=1)\n",
    "df = df.dropna(subset=['urlToImage'])\n",
    "\n",
    "df.to_parquet('/Users/ronitguptaaa/Documents/Music-Fusion-APP/Mart/MusicConcertsNews')"
   ]
  },
  {
   "cell_type": "code",
   "execution_count": 8,
   "metadata": {},
   "outputs": [],
   "source": [
    "df = pd.read_parquet('/Users/ronitguptaaa/Documents/Music-Fusion-APP/Mart/MusicConcertsNews')"
   ]
  },
  {
   "cell_type": "code",
   "execution_count": 9,
   "metadata": {},
   "outputs": [],
   "source": [
    "columns = \", \".join([f\"`{col}` VARCHAR(1024)\" for col in df.columns])\n",
    "\n",
    "drop_table_query = \"DROP TABLE IF EXISTS MusicConcertsNews;\"\n",
    "cursor.execute(drop_table_query)\n",
    "\n",
    "create_table_query = f\"CREATE TABLE IF NOT EXISTS MusicConcertsNews ({columns});\"\n",
    "cursor.execute(create_table_query)\n",
    "\n",
    "insert_query = f\"INSERT INTO MusicConcertsNews ({', '.join(df.columns)}) VALUES ({', '.join(['%s'] * len(df.columns))})\"\n",
    "\n",
    "delete_query = f\"DELETE FROM MusicConcertsNews WHERE author is NULL;\"\n",
    "\n",
    "\n",
    "for index, row in df.iterrows():\n",
    "    values = tuple([None if pd.isna(val) else val for val in row])\n",
    "    cursor.execute(insert_query, values)\n",
    "    \n",
    "cursor.execute(delete_query)\n",
    "conn.commit()"
   ]
  }
 ],
 "metadata": {
  "kernelspec": {
   "display_name": ".venv",
   "language": "python",
   "name": "python3"
  },
  "language_info": {
   "codemirror_mode": {
    "name": "ipython",
    "version": 3
   },
   "file_extension": ".py",
   "mimetype": "text/x-python",
   "name": "python",
   "nbconvert_exporter": "python",
   "pygments_lexer": "ipython3",
   "version": "3.9.16"
  }
 },
 "nbformat": 4,
 "nbformat_minor": 2
}
