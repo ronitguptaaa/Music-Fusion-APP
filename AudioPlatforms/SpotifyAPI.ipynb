{
 "cells": [
  {
   "cell_type": "code",
   "execution_count": 1,
   "metadata": {},
   "outputs": [
    {
     "name": "stderr",
     "output_type": "stream",
     "text": [
      "Setting default log level to \"WARN\".\n",
      "To adjust logging level use sc.setLogLevel(newLevel). For SparkR, use setLogLevel(newLevel).\n",
      "24/06/04 16:51:41 WARN NativeCodeLoader: Unable to load native-hadoop library for your platform... using builtin-java classes where applicable\n",
      "24/06/04 16:51:42 WARN Utils: Service 'SparkUI' could not bind on port 4040. Attempting port 4041.\n",
      "24/06/04 16:51:42 WARN Utils: Service 'SparkUI' could not bind on port 4041. Attempting port 4042.\n",
      "24/06/04 16:51:42 WARN Utils: Service 'SparkUI' could not bind on port 4042. Attempting port 4043.\n"
     ]
    }
   ],
   "source": [
    "%run ../Requirements.ipynb"
   ]
  },
  {
   "cell_type": "code",
   "execution_count": 2,
   "metadata": {},
   "outputs": [],
   "source": [
    "auth_header = base64.b64encode((spotify_secrets.get(\"client_id\")+':'+spotify_secrets.get(\"client_secret\")).encode()).decode()\n",
    "headers = {\n",
    "    \"Content-Type\": \"application/x-www-form-urlencoded\",\n",
    "    \"Authorization\": f\"Basic {auth_header}\"\n",
    "}\n",
    "data = {\n",
    "    \"grant_type\": \"client_credentials\"\n",
    "}\n",
    "\n",
    "response = requests.post(spotify_auth_url, headers=headers, data=data)\n",
    "response_data = response.json()['access_token']\n",
    "\n",
    "headers = {\n",
    "    \"Authorization\": f\"Bearer {response_data}\"\n",
    "}\n",
    "\n",
    "response = requests.get(spotify_url, headers=headers)\n",
    "spotify_response_data=response.json()"
   ]
  },
  {
   "cell_type": "code",
   "execution_count": 3,
   "metadata": {},
   "outputs": [],
   "source": [
    "tracks = []\n",
    "for item in spotify_response_data['tracks']['items']:\n",
    "    track = item['track']\n",
    "    track_info = {\n",
    "        'Track Name': track['name'],\n",
    "        'Artists': ', '.join([artist['name'] for artist in track['artists']]),\n",
    "        'Album': track['album']['name'],\n",
    "        'Release Date': track['album']['release_date'],\n",
    "        'Track URL': track['external_urls']['spotify']\n",
    "    }\n",
    "    tracks.append(track_info)\n",
    "df = pd.DataFrame(tracks)\n",
    "df = spark.createDataFrame(tracks)"
   ]
  },
  {
   "cell_type": "code",
   "execution_count": 4,
   "metadata": {},
   "outputs": [
    {
     "name": "stderr",
     "output_type": "stream",
     "text": [
      "24/06/04 16:51:49 WARN MemoryManager: Total allocation exceeds 95.00% (1,020,054,720 bytes) of heap memory\n",
      "Scaling row group sizes to 95.00% for 8 writers\n",
      "                                                                                \r"
     ]
    }
   ],
   "source": [
    "df.write.mode('overwrite').format('parquet').save('../Staging/SpotifyMusic')"
   ]
  }
 ],
 "metadata": {
  "kernelspec": {
   "display_name": ".venv",
   "language": "python",
   "name": "python3"
  },
  "language_info": {
   "codemirror_mode": {
    "name": "ipython",
    "version": 3
   },
   "file_extension": ".py",
   "mimetype": "text/x-python",
   "name": "python",
   "nbconvert_exporter": "python",
   "pygments_lexer": "ipython3",
   "version": "3.9.16"
  }
 },
 "nbformat": 4,
 "nbformat_minor": 2
}
