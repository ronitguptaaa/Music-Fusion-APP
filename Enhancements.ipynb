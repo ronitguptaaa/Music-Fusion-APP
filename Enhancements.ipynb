{
 "cells": [
  {
   "cell_type": "code",
   "execution_count": 1,
   "metadata": {},
   "outputs": [
    {
     "name": "stderr",
     "output_type": "stream",
     "text": [
      "24/06/13 17:57:06 WARN Utils: Your hostname, Ronits-MacBook-Air.local resolves to a loopback address: 127.0.0.1; using 192.168.1.3 instead (on interface en0)\n",
      "24/06/13 17:57:06 WARN Utils: Set SPARK_LOCAL_IP if you need to bind to another address\n",
      "Setting default log level to \"WARN\".\n",
      "To adjust logging level use sc.setLogLevel(newLevel). For SparkR, use setLogLevel(newLevel).\n",
      "24/06/13 17:57:07 WARN NativeCodeLoader: Unable to load native-hadoop library for your platform... using builtin-java classes where applicable\n"
     ]
    }
   ],
   "source": [
    "%run Requirements.ipynb"
   ]
  },
  {
   "cell_type": "markdown",
   "metadata": {},
   "source": [
    "Artist Details and Images"
   ]
  },
  {
   "cell_type": "code",
   "execution_count": 2,
   "metadata": {},
   "outputs": [
    {
     "name": "stderr",
     "output_type": "stream",
     "text": [
      "                                                                                \r"
     ]
    }
   ],
   "source": [
    "df = spark.sql(\"\"\"SELECT DISTINCT Artist FROM PARQUET.`/Users/ronitguptaaa/Documents/Music-Fusion-APP/Mart/MusicFusion-Details` ORDER BY Artist\"\"\")"
   ]
  },
  {
   "cell_type": "code",
   "execution_count": 3,
   "metadata": {},
   "outputs": [],
   "source": [
    "auth_header = base64.b64encode((spotify_secrets.get(\"client_id\")+':'+spotify_secrets.get(\"client_secret\")).encode()).decode()\n",
    "headers = {\n",
    "    \"Content-Type\": \"application/x-www-form-urlencoded\",\n",
    "    \"Authorization\": f\"Basic {auth_header}\"\n",
    "}\n",
    "data = {\n",
    "    \"grant_type\": \"client_credentials\"\n",
    "}\n",
    "\n",
    "response = requests.post(spotify_auth_url, headers=headers, data=data)\n",
    "response_data = response.json()['access_token']\n",
    "\n",
    "headers = {\n",
    "    \"Authorization\": f\"Bearer {response_data}\"\n",
    "}\n",
    "\n",
    "response = requests.get(spotify_url, headers=headers)\n",
    "spotify_response_data=response.json()"
   ]
  },
  {
   "cell_type": "code",
   "execution_count": 7,
   "metadata": {},
   "outputs": [
    {
     "name": "stderr",
     "output_type": "stream",
     "text": [
      "24/06/13 17:59:50 WARN MemoryManager: Total allocation exceeds 95.00% (1,020,054,720 bytes) of heap memory\n",
      "Scaling row group sizes to 95.00% for 8 writers\n",
      "                                                                                \r"
     ]
    }
   ],
   "source": [
    "artist_names = [row['Artist'] for row in df.collect()]\n",
    "\n",
    "artist_details = []\n",
    "\n",
    "for artist_name in artist_names:\n",
    "    spotify_api_url = f'https://api.spotify.com/v1/search?q={artist_name}&type=artist'\n",
    "    headers = {\n",
    "        'Authorization': f'Bearer {response_data}'\n",
    "    }\n",
    "\n",
    "    try:\n",
    "        response = requests.get(spotify_api_url, headers=headers)\n",
    "        if response.status_code == 200:\n",
    "            data = response.json()\n",
    "            artists = data.get('artists', {}).get('items', [])\n",
    "\n",
    "            for artist_data in artists:\n",
    "                if artist_data.get('name').lower() == artist_name.lower():\n",
    "                    artist_details.append({\n",
    "                        'name': artist_data.get('name'),\n",
    "                        'id': artist_data.get('id'),\n",
    "                        'image_url': artist_data.get('images')[0].get('url') if artist_data.get('images') else None,\n",
    "                        'followers': artist_data.get('followers', {}).get('total'),\n",
    "                        'popularity': artist_data.get('popularity')\n",
    "                    })\n",
    "                    break\n",
    "\n",
    "    except requests.exceptions.RequestException as e:\n",
    "        print(f\"Request failed for artist '{artist_name}': {e}\")\n",
    "\n",
    "artist_df = spark.createDataFrame(artist_details)\n",
    "\n",
    "artist_df.write.mode('overwrite').format('parquet').save('Mart/ArtistDetails')"
   ]
  },
  {
   "cell_type": "code",
   "execution_count": 9,
   "metadata": {},
   "outputs": [],
   "source": [
    "conn = mysql.connector.connect(\n",
    "    host='127.0.0.1',\n",
    "    user='root',\n",
    "    password='ronitgupta28',\n",
    "    database='MusicFusion'\n",
    ")\n",
    "cursor = conn.cursor()"
   ]
  },
  {
   "cell_type": "code",
   "execution_count": 10,
   "metadata": {},
   "outputs": [],
   "source": [
    "df = pd.read_parquet('Mart/ArtistDetails')\n",
    "\n",
    "columns = \", \".join([f\"`{col}` VARCHAR(1024)\" for col in df.columns])\n",
    "drop_table_query = f\"DROP TABLE IF EXISTS ArtistDetails;\"\n",
    "cursor.execute(drop_table_query)\n",
    "create_table_query = f\"CREATE TABLE IF NOT EXISTS ArtistDetails ({columns});\"\n",
    "cursor.execute(create_table_query)\n",
    "\n",
    "for index, row in df.iterrows():\n",
    "    values = tuple(row.values)\n",
    "    insert_query = f\"REPLACE INTO ArtistDetails VALUES {values};\"\n",
    "    cursor.execute(insert_query)\n",
    "conn.commit()"
   ]
  }
 ],
 "metadata": {
  "kernelspec": {
   "display_name": ".venv",
   "language": "python",
   "name": "python3"
  },
  "language_info": {
   "codemirror_mode": {
    "name": "ipython",
    "version": 3
   },
   "file_extension": ".py",
   "mimetype": "text/x-python",
   "name": "python",
   "nbconvert_exporter": "python",
   "pygments_lexer": "ipython3",
   "version": "3.9.16"
  }
 },
 "nbformat": 4,
 "nbformat_minor": 2
}
