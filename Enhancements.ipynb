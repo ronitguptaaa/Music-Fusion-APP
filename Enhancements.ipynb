{
 "cells": [
  {
   "cell_type": "code",
   "execution_count": 2,
   "metadata": {},
   "outputs": [
    {
     "name": "stderr",
     "output_type": "stream",
     "text": [
      "Setting default log level to \"WARN\".\n",
      "To adjust logging level use sc.setLogLevel(newLevel). For SparkR, use setLogLevel(newLevel).\n",
      "24/06/13 16:54:12 WARN NativeCodeLoader: Unable to load native-hadoop library for your platform... using builtin-java classes where applicable\n"
     ]
    }
   ],
   "source": [
    "%run Requirements.ipynb"
   ]
  },
  {
   "cell_type": "markdown",
   "metadata": {},
   "source": [
    "Artist Details and Images"
   ]
  },
  {
   "cell_type": "code",
   "execution_count": null,
   "metadata": {},
   "outputs": [],
   "source": [
    "df = spark.sql(\"\"\"SELECT DISTINCT Artist FROM PARQUET.`/Users/ronitguptaaa/Documents/Music-Fusion-APP/Mart/MusicFusion-Details` ORDER BY Artist\"\"\")"
   ]
  },
  {
   "cell_type": "code",
   "execution_count": 21,
   "metadata": {},
   "outputs": [],
   "source": [
    "auth_header = base64.b64encode((spotify_secrets.get(\"client_id\")+':'+spotify_secrets.get(\"client_secret\")).encode()).decode()\n",
    "headers = {\n",
    "    \"Content-Type\": \"application/x-www-form-urlencoded\",\n",
    "    \"Authorization\": f\"Basic {auth_header}\"\n",
    "}\n",
    "data = {\n",
    "    \"grant_type\": \"client_credentials\"\n",
    "}\n",
    "\n",
    "response = requests.post(spotify_auth_url, headers=headers, data=data)\n",
    "response_data = response.json()['access_token']\n",
    "\n",
    "headers = {\n",
    "    \"Authorization\": f\"Bearer {response_data}\"\n",
    "}\n",
    "\n",
    "response = requests.get(spotify_url, headers=headers)\n",
    "spotify_response_data=response.json()"
   ]
  },
  {
   "cell_type": "code",
   "execution_count": 22,
   "metadata": {},
   "outputs": [
    {
     "name": "stdout",
     "output_type": "stream",
     "text": [
      "+---------+----------------------+----------------------------------------------------------------+-----------------+----------+\n",
      "|followers|id                    |image_url                                                       |name             |popularity|\n",
      "+---------+----------------------+----------------------------------------------------------------+-----------------+----------+\n",
      "|2742433  |22wbnEMDvgVIAGdFeek6ET|https://i.scdn.co/image/ab6761610000e5ebb2ce21a89c09c00d80d8ca25|Benson Boone     |85        |\n",
      "|95208705 |6qqNVTkY8uBg9cP3Jd7DAH|https://i.scdn.co/image/ab6761610000e5eb4a21b4760d2ecb7b0dcdc8da|Billie Eilish    |94        |\n",
      "|1084710  |7GlBOeep6PqTfFi59PTUUN|https://i.scdn.co/image/ab6761610000e5ebcde5a0d57c1b79de5fce6bee|Chappell Roan    |81        |\n",
      "|1380537  |5p9HO3XC5P3BLxJs5Mtrhm|https://i.scdn.co/image/ab6761610000e5eb02fcc327683d53bea9583c69|Djo              |77        |\n",
      "|85281135 |7dGJo4pcD2V6oG8kP0tJRR|https://i.scdn.co/image/ab6761610000e5eba00b11c129b27a88fc72f36b|Eminem           |90        |\n",
      "|7233481  |2FXC3k01G6Gw61bmprjgqS|https://i.scdn.co/image/ab6761610000e5ebad85a585103dfc2f3439119a|Hozier           |85        |\n",
      "|559301   |3bO19AOone0ubCsfDXDtYt|https://i.scdn.co/image/ab6761610000e5eb4ba4b52faef3fc16db9ecb14|Myles Smith      |76        |\n",
      "|2876527  |2RQXRUsr4IW1f3mKyKsy4B|https://i.scdn.co/image/ab6761610000e5eb336ec53126239813d38ff588|Noah Kahan       |84        |\n",
      "|9070462  |74KM79TiuVKeVCqs8QtB0B|https://i.scdn.co/image/ab6761610000e5ebe053b8338322b9c8609ee7ae|Sabrina Carpenter|87        |\n",
      "|381585   |3y2cIKLjiOlp1Np37WiUdH|https://i.scdn.co/image/ab6761610000e5eb89447fe120bae042c52fad07|Shaboozey        |80        |\n",
      "|112618236|06HL4z0CvFAxyc27GXpf02|https://i.scdn.co/image/ab6761610000e5ebe672b5f553298dcdccb0e676|Taylor Swift     |100       |\n",
      "|2237843  |33qOK5uJ8AR2xuQQAhHump|https://i.scdn.co/image/ab6761610000e5ebf76e11a5f3c08955fecea690|Teddy Swims      |81        |\n",
      "|440281   |1WaFQSHVGZQJTbf0BdxdNo|https://i.scdn.co/image/ab6761610000e5ebbb330168f192dbdc28fcbd37|Tommy Richman    |82        |\n",
      "|4121191  |40ZNYROS4zLfyyBSs2PGe2|https://i.scdn.co/image/ab6761610000e5eb4fd54df35bfcfa0fc9fc2da7|Zach Bryan       |88        |\n",
      "+---------+----------------------+----------------------------------------------------------------+-----------------+----------+\n",
      "\n"
     ]
    }
   ],
   "source": [
    "artist_names = [row['Artist'] for row in df.collect()]\n",
    "\n",
    "artist_details = []\n",
    "\n",
    "for artist_name in artist_names:\n",
    "    spotify_api_url = f'https://api.spotify.com/v1/search?q={artist_name}&type=artist'\n",
    "    headers = {\n",
    "        'Authorization': f'Bearer {access_token}'\n",
    "    }\n",
    "\n",
    "    try:\n",
    "        response = requests.get(spotify_api_url, headers=headers)\n",
    "        if response.status_code == 200:\n",
    "            data = response.json()\n",
    "            artists = data.get('artists', {}).get('items', [])\n",
    "\n",
    "            for artist_data in artists:\n",
    "                if artist_data.get('name').lower() == artist_name.lower():\n",
    "                    artist_details.append({\n",
    "                        'name': artist_data.get('name'),\n",
    "                        'id': artist_data.get('id'),\n",
    "                        'image_url': artist_data.get('images')[0].get('url') if artist_data.get('images') else None,\n",
    "                        'followers': artist_data.get('followers', {}).get('total'),\n",
    "                        'popularity': artist_data.get('popularity')\n",
    "                    })\n",
    "                    break\n",
    "\n",
    "    except requests.exceptions.RequestException as e:\n",
    "        print(f\"Request failed for artist '{artist_name}': {e}\")\n",
    "\n",
    "artist_df = spark.createDataFrame(artist_details)\n",
    "\n",
    "artist_df.show(truncate=False)"
   ]
  }
 ],
 "metadata": {
  "kernelspec": {
   "display_name": ".venv",
   "language": "python",
   "name": "python3"
  },
  "language_info": {
   "codemirror_mode": {
    "name": "ipython",
    "version": 3
   },
   "file_extension": ".py",
   "mimetype": "text/x-python",
   "name": "python",
   "nbconvert_exporter": "python",
   "pygments_lexer": "ipython3",
   "version": "3.9.16"
  }
 },
 "nbformat": 4,
 "nbformat_minor": 2
}
